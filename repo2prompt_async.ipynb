{
  "nbformat": 4,
  "nbformat_minor": 0,
  "metadata": {
    "colab": {
      "provenance": []
    },
    "kernelspec": {
      "name": "python3",
      "display_name": "Python 3"
    },
    "language_info": {
      "name": "python"
    }
  },
  "cells": [
    {
      "cell_type": "markdown",
      "source": [
        "You will need a Github repo URL (public) and a Github access token.\n",
        "You can also use this with private repos but your token will need to have those permissions.\n",
        "\n",
        "Within the build_directory_tree function, you can specify which file extensions should be included in the output.\n",
        "\n",
        "The output is saved to a .txt file with name [repo]-formatted-prompt.txt"
      ],
      "metadata": {
        "id": "H0WyoRb5kAw0"
      }
    },
    {
      "cell_type": "code",
      "execution_count": 1,
      "metadata": {
        "id": "SrLm4adgYrgi"
      },
      "outputs": [],
      "source": [
        "import aiohttp\n",
        "import asyncio\n",
        "import base64\n",
        "from urllib.parse import urlparse\n",
        "\n",
        "\n",
        "async def parse_github_url(url):\n",
        "    parsed_url = urlparse(url)\n",
        "    path_segments = parsed_url.path.strip(\"/\").split(\"/\")\n",
        "    if len(path_segments) >= 2:\n",
        "        owner, repo = path_segments[0], path_segments[1]\n",
        "        return owner, repo\n",
        "    else:\n",
        "        raise ValueError(\"Invalid GitHub URL provided!\")\n",
        "\n",
        "\n",
        "async def fetch_repo_content(session, owner, repo, path=\"\", token=None):\n",
        "    base_url = f\"https://api.github.com/repos/{owner}/{repo}/contents/{path}\"\n",
        "    headers = {\"Accept\": \"application/vnd.github.v3+json\"}\n",
        "    if token:\n",
        "        headers[\"Authorization\"] = f\"Bearer {token}\"\n",
        "    async with session.get(base_url, headers=headers) as response:\n",
        "        if response.status == 200:\n",
        "            return await response.json()\n",
        "        else:\n",
        "            response.raise_for_status()\n",
        "\n",
        "\n",
        "def get_file_content(file_info):\n",
        "    if file_info[\"encoding\"] == \"base64\":\n",
        "        return base64.b64decode(file_info[\"content\"]).decode(\"utf-8\")\n",
        "    else:\n",
        "        return file_info[\"content\"]\n",
        "\n",
        "\n",
        "async def build_directory_tree(session, owner, repo, path=\"\", token=None, indent=0):\n",
        "    items = await fetch_repo_content(session, owner, repo, path, token)\n",
        "    tree_str = \"\"\n",
        "    file_fetch_tasks = []\n",
        "    for item in items:\n",
        "        if \".github\" in item[\"path\"].split(\"/\"):\n",
        "            continue\n",
        "        if item[\"type\"] == \"dir\":\n",
        "            tree_str += \"    \" * indent + f\"[{item['name']}/]\\n\"\n",
        "            sub_tree_str, _ = await build_directory_tree(\n",
        "                session, owner, repo, item[\"path\"], token, indent + 1\n",
        "            )\n",
        "            tree_str += sub_tree_str\n",
        "        else:\n",
        "            tree_str += \"    \" * indent + f\"{item['name']}\\n\"\n",
        "            if item[\"name\"].endswith(\n",
        "                (\".py\", \".ipynb\", \".html\", \".css\", \".js\", \".jsx\", \".rst\", \".md\")\n",
        "            ):\n",
        "                file_fetch_tasks.append(\n",
        "                    fetch_repo_content(session, owner, repo, item[\"path\"], token)\n",
        "                )\n",
        "\n",
        "    file_contents = await asyncio.gather(*file_fetch_tasks)\n",
        "    file_contents_decoded = [get_file_content(file_info) for file_info in file_contents]\n",
        "\n",
        "    return tree_str, file_contents_decoded\n",
        "\n",
        "\n",
        "async def retrieve_github_repo_info(url, token=None):\n",
        "    owner, repo = await parse_github_url(url)\n",
        "\n",
        "    async with aiohttp.ClientSession() as session:\n",
        "        try:\n",
        "            readme_info = await fetch_repo_content(\n",
        "                session, owner, repo, \"README.md\", token\n",
        "            )\n",
        "            readme_content = get_file_content(readme_info)\n",
        "            formatted_string = f\"README.md:\\n```\\n{readme_content}\\n```\\n\\n\"\n",
        "        except Exception as e:\n",
        "            formatted_string = \"README.md: Not found or error fetching README\\n\\n\"\n",
        "\n",
        "        directory_tree, file_contents = await build_directory_tree(\n",
        "            session, owner, repo, token=token\n",
        "        )\n",
        "        formatted_string += f\"Directory Structure:\\n{directory_tree}\\n\"\n",
        "\n",
        "        for file_content in file_contents:\n",
        "            formatted_string += \"\\n\" + \"```\" + file_content + \"```\" + \"\\n\"\n",
        "\n",
        "    return formatted_string"
      ]
    },
    {
      "cell_type": "code",
      "source": [
        "# You provide a Github repo URL and a Github personal access token.\n",
        "# How to get an access token: https://docs.github.com/en/authentication/keeping-your-account-and-data-secure/managing-your-personal-access-tokens\n",
        "github_url = \"https://github.com/nomic-ai/nomic/tree/main\"\n",
        "token = \"Your Github access token here\"  # Replace with your actual token\n",
        "\n",
        "_, repo = await parse_github_url(github_url)\n",
        "\n",
        "formatted_repo_info = await retrieve_github_repo_info(github_url, token=token)\n",
        "output_file_name = f\"{repo}-formatted-prompt.txt\"\n",
        "\n",
        "with open(output_file_name, \"w\", encoding=\"utf-8\") as file:\n",
        "    file.write(formatted_repo_info)\n",
        "\n",
        "print(f\"Repository information has been saved to {output_file_name}\")"
      ],
      "metadata": {
        "colab": {
          "base_uri": "https://localhost:8080/"
        },
        "id": "cuV5LirEa5jI",
        "outputId": "e89a5307-03f8-48e4-d721-88bb5c32e55c"
      },
      "execution_count": null,
      "outputs": [
        {
          "output_type": "stream",
          "name": "stdout",
          "text": [
            "Repository information has been saved to nomic-formatted-prompt.txt\n"
          ]
        }
      ]
    },
    {
      "cell_type": "code",
      "source": [],
      "metadata": {
        "id": "rRBY0el6cDg5"
      },
      "execution_count": null,
      "outputs": []
    }
  ]
}
